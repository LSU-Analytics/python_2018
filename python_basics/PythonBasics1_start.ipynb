{
 "cells": [
  {
   "cell_type": "markdown",
   "metadata": {},
   "source": [
    "# Welcome to Python!"
   ]
  },
  {
   "cell_type": "markdown",
   "metadata": {},
   "source": [
    "Clone or download the repository https://github.com/LSU-Analytics/python_2018.git\n",
    "```\n",
    "$ git clone https://github.com/LSU-Analytics/python_2018.git\n",
    "```"
   ]
  },
  {
   "cell_type": "markdown",
   "metadata": {
    "hideCode": false,
    "hidePrompt": false
   },
   "source": [
    "In interactive Python, you can have the output of each cell immediately. When you hit `Shift+Enter`, all the commands in the cell are run and the last command output is printed, unless you explicitly use the `print` or any other output function to return its result.\n",
    "Before running the following cell, try to predict the output"
   ]
  },
  {
   "cell_type": "code",
   "execution_count": null,
   "metadata": {
    "hideOutput": true,
    "hidePrompt": false
   },
   "outputs": [],
   "source": []
  },
  {
   "cell_type": "markdown",
   "metadata": {},
   "source": [
    "## *Exercise*"
   ]
  },
  {
   "cell_type": "markdown",
   "metadata": {},
   "source": [
    "Insert a cell below this cell and return the multiplication of x and y. Can you also find the shortcut of inserting a new cell?"
   ]
  },
  {
   "cell_type": "code",
   "execution_count": null,
   "metadata": {},
   "outputs": [],
   "source": []
  },
  {
   "cell_type": "markdown",
   "metadata": {},
   "source": [
    "## Types in Python\n",
    "- Numerical Types:\n",
    "    - bool (Boolean)\n",
    "    - int (Integer/Long)\n",
    "    - float\n",
    "    - complex\n",
    "- Iterable Types:\n",
    "    - str (String)\n",
    "    - list (Ordered Array)\n",
    "    - tuple (Ordered Immutable Array)\n",
    "    - dict (Unordered list of keys and values)\n",
    "- Other Types:\n",
    "    - function\n",
    "    - None\n",
    "    - ...\n",
    "    \n",
    "You can check the type using the built-in function `type`"
   ]
  },
  {
   "cell_type": "code",
   "execution_count": null,
   "metadata": {
    "hideOutput": true
   },
   "outputs": [],
   "source": [
    "# type() command"
   ]
  },
  {
   "cell_type": "code",
   "execution_count": null,
   "metadata": {
    "hideOutput": true
   },
   "outputs": [],
   "source": []
  },
  {
   "cell_type": "code",
   "execution_count": null,
   "metadata": {
    "hideOutput": true
   },
   "outputs": [],
   "source": []
  },
  {
   "cell_type": "markdown",
   "metadata": {},
   "source": [
    "### Lists\n",
    "Use **square bracket** to make a list\n",
    "A list contains a sequence of items. You can concisely instruct Python to perform repeated actions on the elements of a list.\n",
    "Lists are **mutable types**; you can change \n",
    "- their length, \n",
    "- number of elements and \n",
    "- the element values.\n",
    "Similar to R, list can get more than one dataType."
   ]
  },
  {
   "cell_type": "code",
   "execution_count": null,
   "metadata": {
    "hideOutput": true
   },
   "outputs": [],
   "source": [
    "# l = [1,3,'a',5.5]\n"
   ]
  },
  {
   "cell_type": "markdown",
   "metadata": {},
   "source": [
    "Here are three important built-in functions on a list: \n",
    "\n",
    "- len(): indicates the length of a list\n",
    "- append(): add an element to the end of the list \n",
    "- pop(): remove the last element of a list"
   ]
  },
  {
   "cell_type": "code",
   "execution_count": null,
   "metadata": {
    "hideOutput": true
   },
   "outputs": [],
   "source": []
  },
  {
   "cell_type": "markdown",
   "metadata": {},
   "source": [
    "Indexing a list is possible using the square bracket. Note that in Python indices start from 0."
   ]
  },
  {
   "cell_type": "code",
   "execution_count": null,
   "metadata": {},
   "outputs": [],
   "source": [
    "# a = [3,2,5,7]\n"
   ]
  },
  {
   "cell_type": "code",
   "execution_count": null,
   "metadata": {
    "hideOutput": true
   },
   "outputs": [],
   "source": [
    "# iterating over elements\n"
   ]
  },
  {
   "cell_type": "code",
   "execution_count": null,
   "metadata": {
    "hideOutput": true
   },
   "outputs": [],
   "source": [
    "# iterating over indices\n"
   ]
  },
  {
   "cell_type": "markdown",
   "metadata": {},
   "source": [
    "For loops of the last two cell are equivalent. In fact the first one is an easier version of for loop specified in Python. \n",
    "\n",
    "The built-in function `range` gives you an iterable.\n",
    "\n",
    "Whenever you want to know more about a function in Jupyter Notebook, you can type the name of the function and a question mark. Run the next cell."
   ]
  },
  {
   "cell_type": "code",
   "execution_count": null,
   "metadata": {},
   "outputs": [],
   "source": [
    "range?"
   ]
  },
  {
   "cell_type": "markdown",
   "metadata": {},
   "source": [
    "## *Exercise*\n",
    "In the following cell add number 4 to the second and third elements of the list b using `range` function.\n",
    "\n",
    "b = [1,2,3,4,5,6,7]\n",
    "\n",
    "The output should be b = [1,6,7,4,5,6,7]"
   ]
  },
  {
   "cell_type": "code",
   "execution_count": null,
   "metadata": {
    "hideOutput": true
   },
   "outputs": [],
   "source": [
    "b = [1,2,3,4,5,6,7]\n",
    "# write you code here (~2 lines) you can use a for loop\n"
   ]
  },
  {
   "cell_type": "markdown",
   "metadata": {},
   "source": [
    "What do think a[-1] is? Can we index a list backward? How we can slice a list?\n",
    "\n",
    "To comment in Python, use a hash"
   ]
  },
  {
   "cell_type": "code",
   "execution_count": null,
   "metadata": {
    "hideOutput": true
   },
   "outputs": [],
   "source": [
    "# a = ['a','b','c','d','e','f','g']\n"
   ]
  },
  {
   "cell_type": "markdown",
   "metadata": {},
   "source": [
    "- List indices start from 0\n",
    "- If you use negative numbers for an index, the list indices start from the last element, but note that it doest not start from 0 (it starts from -1). In the last example both a[-7:-1] and a[0:6] are equivalent and print the whole list\n",
    "- If you don't specify the start index of a slice, it will start from 0\n",
    "- If you don't specify the end index of a slice, it will go to the last element"
   ]
  },
  {
   "cell_type": "markdown",
   "metadata": {},
   "source": [
    "### Strings\n",
    "Strings are **immutable** iterable types. For slicing, strings also can be treated like lists. Run the next cell. What are the differences?"
   ]
  },
  {
   "cell_type": "code",
   "execution_count": null,
   "metadata": {
    "hideOutput": true
   },
   "outputs": [],
   "source": [
    "# a = \"abcdefg\"\n"
   ]
  },
  {
   "cell_type": "markdown",
   "metadata": {},
   "source": [
    "### Tuples\n",
    "Use **parentheses** to make a tuple. Tuples can contain more than one data type. Unlike lists, tuples are **immutable**; the item ordering cannot be changed one it is created."
   ]
  },
  {
   "cell_type": "code",
   "execution_count": null,
   "metadata": {
    "hideOutput": true
   },
   "outputs": [],
   "source": [
    "# t = (2.5,'c',4,'d')\n"
   ]
  },
  {
   "cell_type": "code",
   "execution_count": null,
   "metadata": {
    "hideOutput": true
   },
   "outputs": [],
   "source": [
    "t[1] = 'a'"
   ]
  },
  {
   "cell_type": "markdown",
   "metadata": {},
   "source": [
    "### Dictionaries\n",
    "Using **curly braces**, you can make a dictionary. Dictionaries contain key-value pairs. To retrive the value, you need the **key**. Keys are separated from values by a colon. Types of value and key can be anything and can be mixed. Dictionaries are **mutable**."
   ]
  },
  {
   "cell_type": "code",
   "execution_count": null,
   "metadata": {
    "hideOutput": true
   },
   "outputs": [],
   "source": [
    "# d = {\"I\":\"one\",\"II\":\"two\",\"III\":\"three\",\"IV\":\"four\",\"V\":\"five\",6:\"six\"}\n"
   ]
  },
  {
   "cell_type": "code",
   "execution_count": null,
   "metadata": {
    "hideOutput": true
   },
   "outputs": [],
   "source": []
  },
  {
   "cell_type": "markdown",
   "metadata": {},
   "source": [
    "Iterating over a dictionary can be done in 3 ways:\n",
    "- iterating over the keys\n",
    "- iterating over the values\n",
    "- iterating over both keys and values"
   ]
  },
  {
   "cell_type": "code",
   "execution_count": null,
   "metadata": {
    "hideOutput": true
   },
   "outputs": [],
   "source": []
  },
  {
   "cell_type": "code",
   "execution_count": null,
   "metadata": {
    "hideOutput": true
   },
   "outputs": [],
   "source": [
    "    "
   ]
  },
  {
   "cell_type": "code",
   "execution_count": null,
   "metadata": {
    "hideOutput": true
   },
   "outputs": [],
   "source": []
  },
  {
   "cell_type": "markdown",
   "metadata": {},
   "source": [
    "## *Exercise*\n",
    "Add one line of code to the following cell such that it prints the values of the dictionary."
   ]
  },
  {
   "cell_type": "code",
   "execution_count": null,
   "metadata": {
    "hideOutput": true
   },
   "outputs": [],
   "source": [
    "# d = {\"I\":\"one\",\"II\":\"two\",\"III\":\"three\",\"IV\":\"four\",\"V\":\"five\",6:\"six\"}\n"
   ]
  },
  {
   "cell_type": "markdown",
   "metadata": {},
   "source": [
    "### Unpacking Variables\n",
    "A sequence can be unpacked to variables. In order to unpack a sequence the number of values you are unpacking should matche the number of variables being assigned."
   ]
  },
  {
   "cell_type": "code",
   "execution_count": null,
   "metadata": {
    "hideOutput": true
   },
   "outputs": [],
   "source": [
    "# SDEIS = (\"Stephenson\", \"Department\", \"Entrepreneurship\",\"Information\", \"Systems\")\n"
   ]
  },
  {
   "cell_type": "code",
   "execution_count": null,
   "metadata": {
    "hideOutput": true
   },
   "outputs": [],
   "source": [
    "# SDEIS = (\"Stephenson\", \"Department\",\"of\", \"Entrepreneurship\",\"and\",\"Information\", \"Systems\")\n"
   ]
  },
  {
   "cell_type": "code",
   "execution_count": null,
   "metadata": {},
   "outputs": [],
   "source": []
  }
 ],
 "metadata": {
  "celltoolbar": "Hide code",
  "hide_code_all_hidden": false,
  "kernelspec": {
   "display_name": "Python 3",
   "language": "python",
   "name": "python3"
  },
  "language_info": {
   "codemirror_mode": {
    "name": "ipython",
    "version": 3
   },
   "file_extension": ".py",
   "mimetype": "text/x-python",
   "name": "python",
   "nbconvert_exporter": "python",
   "pygments_lexer": "ipython3",
   "version": "3.6.3"
  }
 },
 "nbformat": 4,
 "nbformat_minor": 2
}
