{
 "cells": [
  {
   "cell_type": "markdown",
   "metadata": {},
   "source": [
    "## Functions\n",
    "To define a function you need the keyword `def`, a name for your function, indicating the inputs in parenthese, and a colon. The output of a function is the variable after the kewword `return`. Unlike most other languages, you don't need to specify the type for inputs or outputs."
   ]
  },
  {
   "cell_type": "code",
   "execution_count": null,
   "metadata": {
    "hideOutput": true
   },
   "outputs": [],
   "source": [
    "# The function multiply_scalars gets two scalar and returns their multiplication\n",
    "def multiply_scalars(x,y):\n",
    "    return x*y\n",
    "\n",
    "# calling the function\n"
   ]
  },
  {
   "cell_type": "markdown",
   "metadata": {},
   "source": [
    "What do you think is the difference between multiply_scalars and the next function?"
   ]
  },
  {
   "cell_type": "code",
   "execution_count": null,
   "metadata": {
    "hideOutput": true
   },
   "outputs": [],
   "source": [
    "def multiply(x,y):\n",
    "    print(x*y)\n",
    "\n",
    "# calling the function\n"
   ]
  },
  {
   "cell_type": "markdown",
   "metadata": {},
   "source": [
    "The multiply(x,y) does not return anything, although it can print the same result, try this:"
   ]
  },
  {
   "cell_type": "code",
   "execution_count": null,
   "metadata": {
    "hideOutput": true
   },
   "outputs": [],
   "source": [
    "# type(multiply(2,5))"
   ]
  },
  {
   "cell_type": "markdown",
   "metadata": {},
   "source": [
    "Therefore, if you don't return anything in a function, `None` will be returned. What do you think type(multiply_scalars(2,5)) is?\n",
    "\n",
    "You can define a default value for inputs. In this way if that input is not given, the default value will be used."
   ]
  },
  {
   "cell_type": "code",
   "execution_count": null,
   "metadata": {
    "hideOutput": true
   },
   "outputs": [],
   "source": [
    "def multiply_numbers(x,y,z=1):\n",
    "    return x*y*z\n",
    "print(multiply_numbers(3,6)) # calling function by two arguments\n",
    "print(multiply_numbers(3,6,2)) # calling function by three arguments"
   ]
  },
  {
   "cell_type": "markdown",
   "metadata": {},
   "source": [
    "## *Exercise*\n",
    "Write a function that add two numbers if the mode \"add\" is selected and \"subtract\" them otherwise.\n",
    "\n",
    "Hint: Use a variable, mode, and set its default to \"subtract\"."
   ]
  },
  {
   "cell_type": "code",
   "execution_count": null,
   "metadata": {
    "hideCode": false,
    "hideOutput": true
   },
   "outputs": [],
   "source": [
    "def add_sub(x,y,mode=\"subtract\"):\n",
    "    # write your code here\n"
   ]
  },
  {
   "cell_type": "markdown",
   "metadata": {},
   "source": [
    "## Loading Packages\n",
    "To load a package use the keyword `import`. If you import a package `as` something, use can use the short name you just made after `as`."
   ]
  },
  {
   "cell_type": "code",
   "execution_count": null,
   "metadata": {
    "hideOutput": true
   },
   "outputs": [],
   "source": [
    "# import math \n",
    "\n",
    "def circle_circumference(r):\n",
    "    return math.pi*2*r\n",
    "\n",
    "circle_circumference(1)"
   ]
  },
  {
   "cell_type": "code",
   "execution_count": null,
   "metadata": {},
   "outputs": [],
   "source": [
    "%pwd"
   ]
  },
  {
   "cell_type": "markdown",
   "metadata": {},
   "source": [
    "## Reading and Writing CSV files\n",
    "One of the libraries you can use to read and write to a csv is the `csv` package.\n",
    "\n",
    "*This section and the data is deduced from Python Fundamental course by University of Michigan on coursera*"
   ]
  },
  {
   "cell_type": "code",
   "execution_count": null,
   "metadata": {
    "hideOutput": true
   },
   "outputs": [],
   "source": [
    "import csv\n",
    "\n",
    "# this is one of the IPython magic functions (starts with %)\n",
    "%precision 2 \n",
    "\n",
    "with open('mpg.csv') as file: # variable file is only defined through the with loop\n",
    "    mpg = list(csv.DictReader(file))\n",
    "    \n",
    "mpg[:3] # The first three dictionaries in our list."
   ]
  },
  {
   "cell_type": "markdown",
   "metadata": {},
   "source": [
    "Open the csv file and compare the first three rows. We read the csv file using `DictReader`, so we have the column labels for each row as the keys of the dictionary.\n",
    "\n",
    "We could read the csv file differently, check the documentation [here](https://docs.python.org/3/library/csv.html).\n",
    "\n",
    "`csv.Dictreader` has read in each row of our csv file as a dictionary. The whole mpg variable is a list, so it has the attribute `len` which shows that our list is comprised of 234 dictionaries.\n",
    "\n",
    "`with` statement will automatically close the file after the nested block of code."
   ]
  },
  {
   "cell_type": "code",
   "execution_count": null,
   "metadata": {
    "hideOutput": true
   },
   "outputs": [],
   "source": []
  },
  {
   "cell_type": "markdown",
   "metadata": {},
   "source": [
    "What are the column labels?"
   ]
  },
  {
   "cell_type": "code",
   "execution_count": null,
   "metadata": {
    "hideOutput": true
   },
   "outputs": [],
   "source": [
    "\n",
    "# you should select an item of the list, here there is no difference which\n",
    "# but you cannot read keys on a list (items of the list are dictionaries, you get an item, ask what the keys are)"
   ]
  },
  {
   "cell_type": "markdown",
   "metadata": {},
   "source": [
    "This is how to find the average cty fuel economy across all cars. All values in the dictionaries are strings, so we need to convert to float."
   ]
  },
  {
   "cell_type": "code",
   "execution_count": null,
   "metadata": {
    "hideOutput": true
   },
   "outputs": [],
   "source": []
  },
  {
   "cell_type": "markdown",
   "metadata": {},
   "source": [
    "## *Exercise*\n",
    "Find the average hwy fuel economy across all cars. Do you think the result is greater than the city mpg?"
   ]
  },
  {
   "cell_type": "code",
   "execution_count": null,
   "metadata": {
    "hideOutput": true
   },
   "outputs": [],
   "source": []
  },
  {
   "cell_type": "markdown",
   "metadata": {},
   "source": [
    "## List Comprehensions\n",
    "In order to find the average highway mpg, you defined a variable \"theSum\", initialized it to 0 and in the end divide it by the length of the list. Do we realyy need this temporary variable?\n",
    "\n",
    "Python supports a concise syntax to perform a given operation on all elements of a list, this is called a list comprehension. \n",
    "\n",
    "This is the average of fuel economy in highways:"
   ]
  },
  {
   "cell_type": "code",
   "execution_count": null,
   "metadata": {
    "hideOutput": true
   },
   "outputs": [],
   "source": [
    "# sum(float(d['hwy']) for d in mpg) / len(mpg)"
   ]
  },
  {
   "cell_type": "markdown",
   "metadata": {},
   "source": [
    "## *Exercise*\n",
    "Return the odd numbers between 0 and 30 as a list using a list comprehension."
   ]
  },
  {
   "cell_type": "code",
   "execution_count": null,
   "metadata": {
    "hideOutput": true
   },
   "outputs": [],
   "source": [
    "# [n for n in range(0, 30) if n % 2 == 1]"
   ]
  },
  {
   "cell_type": "code",
   "execution_count": null,
   "metadata": {
    "hideOutput": true
   },
   "outputs": [],
   "source": [
    "my_list = []\n",
    "for number in range(0, 30):\n",
    "    if number % 2 == 0:\n",
    "        my_list.append(number)\n",
    "my_list"
   ]
  },
  {
   "cell_type": "markdown",
   "metadata": {},
   "source": [
    "<br>\n",
    "Use `set` to return the **unique** values of a sequence. Here, we can see what class types of vehicle we have."
   ]
  },
  {
   "cell_type": "code",
   "execution_count": null,
   "metadata": {
    "hideOutput": true
   },
   "outputs": [],
   "source": [
    "vehicleclass = set(d['class'] for d in mpg) # what are the class types\n",
    "vehicleclass"
   ]
  },
  {
   "cell_type": "markdown",
   "metadata": {},
   "source": [
    "# Lambda \n",
    "The lambda operator or lambda function is a way to create small anonymous functions, functions without a name. These functions are throw-away functions meaning they are just needed where they have been created.\n",
    "\n",
    "Use the keyword `lambda`, then inputs, a colon and the return value."
   ]
  },
  {
   "cell_type": "code",
   "execution_count": null,
   "metadata": {
    "hideOutput": true
   },
   "outputs": [],
   "source": [
    "def multiply_scalars(x,y):\n",
    "    return x*y\n",
    "\n",
    "l = lambda x,y:x*y\n",
    "\n",
    "print(multiply_scalars(2,5))\n",
    "print(l(2,5))"
   ]
  },
  {
   "cell_type": "markdown",
   "metadata": {},
   "source": [
    "## *Exercise*\n",
    "Using lambda, write a function that returns True if the given number to it is even"
   ]
  },
  {
   "cell_type": "code",
   "execution_count": null,
   "metadata": {},
   "outputs": [],
   "source": [
    "l = lambda x:x%2==0 # complete here\n",
    "print(l(12))\n",
    "print(l(13))"
   ]
  },
  {
   "cell_type": "markdown",
   "metadata": {},
   "source": [
    "## Map\n",
    "The built-in `map` function takes a function and an iterable as arguments and returns a new iterable with the function applied to each argument.\n",
    "\n",
    "Map is super efficient, but it does lazy evaluation, i.e. it returns a map object to you. So you can use a for loop to see all the results.\n",
    "\n",
    "map(f, iterable) is basically equivalent to: [f(x) for x in iterable]\n",
    "\n",
    "Using lambda function in map is really common.\n",
    "\n",
    "What is the equivalent function of map in R?"
   ]
  },
  {
   "cell_type": "code",
   "execution_count": null,
   "metadata": {
    "hideOutput": true
   },
   "outputs": [],
   "source": [
    "# def count_vehicles(vclass): # returns the number of vehicles in the given vclass\n",
    "#     c = 0\n",
    "#     for d in mpg:\n",
    "#         if d[\"class\"] == vclass:\n",
    "#             c += 1\n",
    "#     return c\n",
    "# print(\"number of SUVs:\",count_vehicles('suv'))"
   ]
  },
  {
   "cell_type": "markdown",
   "metadata": {},
   "source": [
    "We want to know the number of vehicles in each vehicle class dynamically:"
   ]
  },
  {
   "cell_type": "code",
   "execution_count": null,
   "metadata": {
    "hideOutput": true
   },
   "outputs": [],
   "source": []
  },
  {
   "cell_type": "markdown",
   "metadata": {},
   "source": [
    "## *Exercise*\n",
    "You have a list of float numbers and you need to only keep the integer part of each number. As you know `math.floor()` does not work on a list! Try:"
   ]
  },
  {
   "cell_type": "code",
   "execution_count": null,
   "metadata": {
    "hideOutput": true
   },
   "outputs": [],
   "source": []
  },
  {
   "cell_type": "markdown",
   "metadata": {},
   "source": [
    "Can you write a function in one line that given a list, it returns a list of integer parts of the numbers? Use lambda and map and name the function floor_func"
   ]
  },
  {
   "cell_type": "code",
   "execution_count": null,
   "metadata": {
    "hideOutput": true
   },
   "outputs": [],
   "source": []
  },
  {
   "cell_type": "code",
   "execution_count": null,
   "metadata": {},
   "outputs": [],
   "source": []
  }
 ],
 "metadata": {
  "kernelspec": {
   "display_name": "Python 3",
   "language": "python",
   "name": "python3"
  },
  "language_info": {
   "codemirror_mode": {
    "name": "ipython",
    "version": 3
   },
   "file_extension": ".py",
   "mimetype": "text/x-python",
   "name": "python",
   "nbconvert_exporter": "python",
   "pygments_lexer": "ipython3",
   "version": "3.6.3"
  }
 },
 "nbformat": 4,
 "nbformat_minor": 2
}
